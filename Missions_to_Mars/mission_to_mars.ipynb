{
 "cells": [
  {
   "cell_type": "code",
   "execution_count": 1,
   "metadata": {},
   "outputs": [],
   "source": [
    "# Import dependencies\n",
    "from splinter import Browser\n",
    "from bs4 import BeautifulSoup as bs\n",
    "from webdriver_manager.chrome import ChromeDriverManager\n",
    "\n",
    "import pandas as pd"
   ]
  },
  {
   "cell_type": "code",
   "execution_count": 2,
   "metadata": {},
   "outputs": [],
   "source": [
    "# Open the browser using ChromeDriverManager and splinter\n",
    "executable_path = {'executable_path': ChromeDriverManager().install()}\n",
    "browser = Browser('chrome', **executable_path, headless=False)"
   ]
  },
  {
   "cell_type": "code",
   "execution_count": 3,
   "metadata": {},
   "outputs": [],
   "source": [
    "# Visit the Mars News Site\n",
    "browser.visit('https://redplanetscience.com')\n",
    "\n",
    "# Scrape the title and preview text of the first article on the Mars landing page\n",
    "soup = bs(browser.html, 'html.parser')\n",
    "\n",
    "news_title = soup.find(class_='content_title').text.strip()\n",
    "\n",
    "news_preview = soup.find(class_='article_teaser_body').text.strip()"
   ]
  },
  {
   "cell_type": "code",
   "execution_count": 4,
   "metadata": {},
   "outputs": [],
   "source": [
    "# Visit the Featured Space Image Site\n",
    "browser.visit('https://spaceimages-mars.com')\n",
    "\n",
    "# Scrape the Featured Space Image\n",
    "soup = bs(browser.html, 'html.parser')\n",
    "\n",
    "featured_space_image = 'https://spaceimages-mars.com/' + soup.find(class_='showimg fancybox-thumbs')['href']"
   ]
  },
  {
   "cell_type": "code",
   "execution_count": 5,
   "metadata": {},
   "outputs": [],
   "source": [
    "# Scrape the table containing facts about the planet using Pandas\n",
    "tables = pd.read_html('https://galaxyfacts-mars.com')\n",
    "\n",
    "# Find the table I need and clean it up\n",
    "facts_table = tables[0]\n",
    "facts_table.columns = facts_table.iloc[0]\n",
    "facts_table = facts_table[1:]\n",
    "\n",
    "# Create an html table using Pandas\n",
    "html_table = facts_table.to_html(index=False).replace('\\n', '')"
   ]
  },
  {
   "cell_type": "code",
   "execution_count": 6,
   "metadata": {},
   "outputs": [],
   "source": [
    "# Visit the Astrogeology site for hemisphere images\n",
    "browser.visit('https://marshemispheres.com/')\n",
    "\n",
    "soup = bs(browser.html, 'html.parser')\n",
    "\n",
    "# Get the click through sites to find full image jpegs\n",
    "hemisphere_links = []\n",
    "\n",
    "for i in soup.find(class_='collapsible results').find_all('a'):\n",
    "    hemisphere_links.append(i['href'])\n",
    "\n",
    "hemisphere_links = list(dict.fromkeys(hemisphere_links))\n",
    "\n",
    "# Go to each hemisphere and grab the title and image url\n",
    "hemisphere_image_urls = []\n",
    "\n",
    "for i in hemisphere_links:\n",
    "    hemisphere_dict = {}\n",
    "    browser.visit('https://marshemispheres.com/' + i)\n",
    "    soup = bs(browser.html, 'html.parser')\n",
    "    hemisphere_dict[\"title\"] = soup.find(class_='title').text.strip()\n",
    "    hemisphere_dict[\"img_url\"] = 'https://marshemispheres.com/' + soup.find(class_='downloads').find('a')['href']\n",
    "    hemisphere_image_urls.append(hemisphere_dict)"
   ]
  },
  {
   "cell_type": "code",
   "execution_count": 7,
   "metadata": {},
   "outputs": [],
   "source": [
    "browser.quit()"
   ]
  }
 ],
 "metadata": {
  "kernelspec": {
   "display_name": "Python 3.9.12 ('base')",
   "language": "python",
   "name": "python3"
  },
  "language_info": {
   "codemirror_mode": {
    "name": "ipython",
    "version": 3
   },
   "file_extension": ".py",
   "mimetype": "text/x-python",
   "name": "python",
   "nbconvert_exporter": "python",
   "pygments_lexer": "ipython3",
   "version": "3.9.12"
  },
  "orig_nbformat": 4,
  "vscode": {
   "interpreter": {
    "hash": "5b0b07944c5dbc91a88e284768cab79a207cf3dc0826e4b143a459b8bc7027e6"
   }
  }
 },
 "nbformat": 4,
 "nbformat_minor": 2
}
